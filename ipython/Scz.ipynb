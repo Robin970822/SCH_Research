{
 "cells": [
  {
   "cell_type": "code",
   "execution_count": 1,
   "metadata": {},
   "outputs": [],
   "source": [
    "# import data\n",
    "import numpy as np\n",
    "import pandas as pd\n",
    "trius = np.load('trius.npy')\n",
    "labels = np.load('labels.npy')"
   ]
  },
  {
   "cell_type": "code",
   "execution_count": 2,
   "metadata": {},
   "outputs": [
    {
     "name": "stdout",
     "output_type": "stream",
     "text": [
      "(252, 3772)\n",
      "(252, 2048)\n",
      "(252, 146)\n",
      "(252, 146)\n",
      "样本集大小： (252, 146) (252,)\n",
      "训练集大小： (226, 146) (226,)\n",
      "测试集大小： (26, 146) (26,)\n"
     ]
    }
   ],
   "source": [
    "# Feartue Selection\n",
    "from sklearn.preprocessing import MinMaxScaler\n",
    "from sklearn.feature_selection import VarianceThreshold, SelectKBest, SelectFromModel, chi2, SelectPercentile, f_classif\n",
    "from sklearn.model_selection import train_test_split, cross_val_score, KFold\n",
    "from sklearn.metrics import accuracy_score, recall_score, confusion_matrix, classification_report, roc_auc_score, roc_curve# 模型度量\n",
    "from sklearn.svm import SVC, LinearSVC\n",
    "from sklearn.naive_bayes import GaussianNB\n",
    "from sklearn.linear_model import LogisticRegression\n",
    "from sklearn.neighbors import KNeighborsClassifier\n",
    "from sklearn.neural_network import MLPClassifier\n",
    "from sklearn.tree import DecisionTreeClassifier\n",
    "from sklearn.ensemble import RandomForestClassifier, GradientBoostingClassifier, ExtraTreesClassifier, AdaBoostClassifier\n",
    "from sklearn.decomposition import PCA, NMF\n",
    "from sklearn.base import clone\n",
    "\n",
    "seed = 2019\n",
    "np.random.seed(seed)\n",
    "X = trius\n",
    "y = labels\n",
    "\n",
    "X = MinMaxScaler().fit_transform(X)\n",
    "\n",
    "selector = VarianceThreshold(0.03)\n",
    "selector.fit(X)\n",
    "X = selector.transform(X)\n",
    "print(X.shape)\n",
    "\n",
    "selector = SelectKBest(chi2, k=2048)\n",
    "X = selector.fit_transform(X, y)\n",
    "print(X.shape)\n",
    "\n",
    "etc = GradientBoostingClassifier().fit(X, y)\n",
    "model = SelectFromModel(etc, prefit=True)\n",
    "X = model.transform(X)\n",
    "print(X.shape)\n",
    "\n",
    "#X = PCA(n_components=128).fit_transform(X)\n",
    "print(X.shape)\n",
    "\n",
    "x_train, x_test, y_train, y_test = train_test_split(X, y, test_size=0.1, random_state=seed)\n",
    "print('样本集大小：',X.shape,y.shape)\n",
    "print('训练集大小：',x_train.shape,y_train.shape)  # 训练集样本大小\n",
    "print('测试集大小：',x_test.shape,y_test.shape)  # 测试集样本大小"
   ]
  },
  {
   "cell_type": "code",
   "execution_count": 3,
   "metadata": {},
   "outputs": [
    {
     "name": "stderr",
     "output_type": "stream",
     "text": [
      "[MLENS] backend: threading\n",
      "[MLENS] Found 11 residual cache(s):\n",
      "        1 (4096): C:\\Users\\hasee007\\AppData\\Local\\Temp\\.mlens_tmp_cache_0wraav2g\n",
      "        2 (4096): C:\\Users\\hasee007\\AppData\\Local\\Temp\\.mlens_tmp_cache_3c0o84i4\n",
      "        3 (4096): C:\\Users\\hasee007\\AppData\\Local\\Temp\\.mlens_tmp_cache_hhco2aq3\n",
      "        4 (4096): C:\\Users\\hasee007\\AppData\\Local\\Temp\\.mlens_tmp_cache_oyp251kf\n",
      "        5 (4096): C:\\Users\\hasee007\\AppData\\Local\\Temp\\.mlens_tmp_cache_qv91by2i\n",
      "        6 (4096): C:\\Users\\hasee007\\AppData\\Local\\Temp\\.mlens_tmp_cache_t_gxeol6\n",
      "        7 (4096): C:\\Users\\hasee007\\AppData\\Local\\Temp\\.mlens_tmp_cache_u8wzk42f\n",
      "        8 (4096): C:\\Users\\hasee007\\AppData\\Local\\Temp\\.mlens_tmp_cache_w2tv1c7g\n",
      "        9 (4096): C:\\Users\\hasee007\\AppData\\Local\\Temp\\.mlens_tmp_cache_wby0l9od\n",
      "        10 (4096): C:\\Users\\hasee007\\AppData\\Local\\Temp\\.mlens_tmp_cache_z1i2jysl\n",
      "        11 (4096): C:\\Users\\hasee007\\AppData\\Local\\Temp\\.mlens_tmp_cache__iycpf_4\n",
      "        Total size: 45056\n",
      "[MLENS] Removing... done.\n"
     ]
    }
   ],
   "source": [
    "from matplotlib import pyplot as plt\n",
    "from mlens.visualization import corrmat, pca_plot, pca_comp_plot\n",
    "from mlens.ensemble import SuperLearner\n",
    "\n",
    "\n",
    "def get_models():\n",
    "    nb = GaussianNB()\n",
    "    svc = SVC(kernel='rbf', C=100, probability=True)\n",
    "    knn = KNeighborsClassifier(n_neighbors=10)\n",
    "    lr = LogisticRegression(C=100, random_state=seed)\n",
    "    nn = MLPClassifier((64, 16), solver='lbfgs', activation='relu', random_state=seed)\n",
    "    gb = GradientBoostingClassifier(n_estimators=100, random_state=seed)\n",
    "    rf = RandomForestClassifier(n_estimators=10, max_features=5, random_state=seed)\n",
    "    ab = AdaBoostClassifier(random_state=seed)\n",
    "    \n",
    "    models = {'svm': svc, 'knn': knn, 'naive bayes': nb,\n",
    "             'mlp': nn, 'random forest': rf, 'gbm': gb, 'logistic': lr,\n",
    "             'adaboost': ab,}\n",
    "    return models\n",
    "\n",
    "\n",
    "def get_meta():\n",
    "    meta_learner = GradientBoostingClassifier(\n",
    "       n_estimators=1000,\n",
    "       loss=\"exponential\",\n",
    "       max_features=4,\n",
    "       max_depth=3,\n",
    "       subsample=0.5,\n",
    "       learning_rate=0.005, \n",
    "       random_state=seed\n",
    "    )\n",
    "    return meta_learner\n",
    "\n",
    "def train_predict(model_list):\n",
    "    P = np.zeros((y_test.shape[0], len(model_list)))\n",
    "    P = pd.DataFrame(P)\n",
    "    \n",
    "    print('Fitting models...')\n",
    "    cols = list()\n",
    "    for i, (name, m) in enumerate(model_list.items()):\n",
    "        print(\"%s...\" % name, end=\" \", flush=False)\n",
    "        m.fit(x_train, y_train)\n",
    "        P.iloc[:, i] = m.predict_proba(x_test)[:, 1]\n",
    "        cols.append(name)\n",
    "        print(\"done\")\n",
    "    \n",
    "    P.columns = cols\n",
    "    print(\"Done.\\n\")\n",
    "    return P\n",
    "\n",
    "\n",
    "def score_models(P, y):\n",
    "    print('ROC AUC SCORE')\n",
    "    for m in P.columns:\n",
    "        score = roc_auc_score(y, P.loc[:, m])\n",
    "        print(\"%-26s: %.3f\" % (m, score))\n",
    "    print('ACC SCORE')\n",
    "    for m in P.columns:\n",
    "        score = accuracy_score(y, np.float32(P.loc[:, m]>=0.5))\n",
    "        print(\"%-26s: %.3f\" % (m, score))\n",
    "\n",
    "\n",
    "def plot_roc_curve(y_test, P_base_learners, P_ensemble, labels, ens_label):\n",
    "    plt.plot([0, 1], [0, 1], 'k--')\n",
    "    cm = [plt.cm.rainbow(i) for i in np.linspace(0, 1.0, P_base_learners.shape[1] + 1)]\n",
    "    \n",
    "    for i in range(P_base_learners.shape[1]):\n",
    "        p = P_base_learners[:, i]\n",
    "        fpr, tpr, _ = roc_curve(y_test, p)\n",
    "        plt.plot(fpr, tpr, label=labels[i], c=cm[i + 1])\n",
    "        \n",
    "    fpr, tpr, _ = roc_curve(y_test, P_ensemble)\n",
    "    plt.plot(fpr, tpr, label=ens_label, c=cm[0])\n",
    "    \n",
    "    plt.xlabel('False positive rate')\n",
    "    plt.ylabel('True positive rate')\n",
    "    plt.title('ROC curve')\n",
    "    plt.legend()\n",
    "    plt.show()\n",
    "\n",
    "\n",
    "def train_base_learners(base_learners, x_train, y_train):\n",
    "    print('Fitting models')\n",
    "    for i, (name, m) in enumerate(base_learners.items()):\n",
    "        print('%s...'% name, end='', flush=False)\n",
    "        m.fit(x_train, y_train)\n",
    "    print('done.')\n",
    "\n",
    "\n",
    "def predict_base_learners(base_learners, x):\n",
    "    P = np.zeros((x.shape[0], len(base_learners)))\n",
    "    print('Generating base learner predictions.')\n",
    "    for i, (name, m) in enumerate(base_learners.items()):\n",
    "        print('%s...'% name, end='', flush=False)\n",
    "        p = m.predict_proba(x)\n",
    "        P[:, i] = p[:, 1]\n",
    "    print('done.')\n",
    "    return P\n",
    "\n",
    "\n",
    "def ensemble_predict(base_learners, meta_learner, x):\n",
    "    P_pred = predict_base_learners(base_learners, x)\n",
    "    return P_pred, meta_learner.predict_proba(P_pred)[:, 1]\n",
    "\n",
    "\n",
    "def stacking(base_learners, meta_learner, X, y, generator):\n",
    "    print('Fitting base learners...', end='')\n",
    "    train_base_learners(base_learners, X, y)\n",
    "    print('done.')\n",
    "    \n",
    "    print('Generating cross-validated predctions...')\n",
    "    cv_preds, cv_y = [], []\n",
    "    for i, (train_idx, test_idx) in enumerate(generator.split(X)):\n",
    "        fold_x_train, fold_y_train = X[train_idx, :], y[train_idx]\n",
    "        fold_x_test, fold_y_test = X[test_idx, :], y[test_idx]\n",
    "        fold_base_learners = {name: clone(model) for name, model in base_learners.items()}\n",
    "        train_base_learners(fold_base_learners, fold_x_train, fold_y_train)\n",
    "        fold_P_base = predict_base_learners(fold_base_learners, fold_x_test)\n",
    "        cv_preds.append(fold_P_base)\n",
    "        cv_y.append(fold_y_test)\n",
    "        print('Fold %i done' %i)\n",
    "    cv_preds = np.vstack(cv_preds)\n",
    "    cv_y = np.hstack(cv_y)\n",
    "    \n",
    "    print('Fitting meta learner...', end='')\n",
    "    meta_learner.fit(cv_preds, cv_y)\n",
    "    print('done')\n",
    "    return base_learners, meta_learner\n",
    "\n",
    "\n",
    "def cross_val_stacking(base_learners, meta_learner, X, y, generator):\n",
    "    cv_scores = []\n",
    "    for i, (train_idx, test_idx) in enumerate(generator.split(X)):\n",
    "        fold_x_train, fold_y_train = X[train_idx, :], y[train_idx]\n",
    "        fold_x_test, fold_y_test = X[test_idx, :], y[test_idx]\n",
    "        cv_base_learners, cv_meta_learner = stacking(get_models(), clone(meta_learner), fold_x_train, fold_y_train, generator)\n",
    "        _, p = ensemble_predict(cv_base_learners, cv_meta_learner, fold_x_test)\n",
    "        acc = accuracy_score(fold_y_test, np.float32(p > 0.5))\n",
    "        cv_scores.append(acc)\n",
    "    return cv_scores\n",
    "\n",
    "def get_ensemble():\n",
    "    sl = SuperLearner(folds=10, random_state=seed, verbose=2, backend='multiprocessing')\n",
    "    sl.add(list(get_models().values()), proba=True)\n",
    "    sl.add_meta(get_meta(), proba=True)\n",
    "    return sl"
   ]
  },
  {
   "cell_type": "code",
   "execution_count": 4,
   "metadata": {},
   "outputs": [],
   "source": [
    "sl = get_ensemble()"
   ]
  },
  {
   "cell_type": "code",
   "execution_count": 5,
   "metadata": {},
   "outputs": [
    {
     "name": "stdout",
     "output_type": "stream",
     "text": [
      "\n",
      "Fitting 2 layers\n",
      "Processing layer-1             done | 00:00:10\n",
      "Processing layer-2             done | 00:00:00\n",
      "Fit complete                        | 00:00:11\n"
     ]
    },
    {
     "data": {
      "text/plain": [
       "SuperLearner(array_check=None, backend=None, folds=10,\n",
       "       layers=[Layer(backend='threading', dtype=<class 'numpy.float32'>, n_jobs=-1,\n",
       "   name='layer-1', propagate_features=None, raise_on_exception=True,\n",
       "   random_state=5957, shuffle=False,\n",
       "   stack=[Group(backend='threading', dtype=<class 'numpy.float32'>,\n",
       "   indexer=FoldIndex(X=None, folds=10, raise_on_e...rer=None)],\n",
       "   n_jobs=-1, name='group-1', raise_on_exception=True, transformers=[])],\n",
       "   verbose=1)],\n",
       "       model_selection=False, n_jobs=None, raise_on_exception=True,\n",
       "       random_state=2048, sample_size=20, scorer=None, shuffle=False,\n",
       "       verbose=2)"
      ]
     },
     "execution_count": 5,
     "metadata": {},
     "output_type": "execute_result"
    }
   ],
   "source": [
    "sl.fit(x_train, y_train)"
   ]
  },
  {
   "cell_type": "code",
   "execution_count": 6,
   "metadata": {},
   "outputs": [
    {
     "name": "stdout",
     "output_type": "stream",
     "text": [
      "\n",
      "Predicting 2 layers\n",
      "Processing layer-1             done | 00:00:07\n",
      "Processing layer-2             done | 00:00:00\n",
      "Predict complete                    | 00:00:07\n"
     ]
    }
   ],
   "source": [
    "p_sl = sl.predict_proba(x_test)"
   ]
  },
  {
   "cell_type": "code",
   "execution_count": 7,
   "metadata": {},
   "outputs": [
    {
     "name": "stdout",
     "output_type": "stream",
     "text": [
      "\n",
      "Super Learner ROC-AUC score: 0.905\n",
      "\n",
      "Super Learner ACC score: 0.808\n"
     ]
    }
   ],
   "source": [
    "print(\"\\nSuper Learner ROC-AUC score: %.3f\" % roc_auc_score(y_test, p_sl[:, 1]))\n",
    "print(\"\\nSuper Learner ACC score: %.3f\" % accuracy_score(y_test, np.float32(p_sl[:, 1] >= 0.5)))"
   ]
  },
  {
   "cell_type": "code",
   "execution_count": 8,
   "metadata": {},
   "outputs": [
    {
     "name": "stdout",
     "output_type": "stream",
     "text": [
      "\n",
      "Fitting 2 layers\n",
      "Processing layer-1             done | 00:00:10\n",
      "Processing layer-2             done | 00:00:00\n",
      "Fit complete                        | 00:00:11\n",
      "\n",
      "Predicting 2 layers\n",
      "Processing layer-1             done | 00:00:07\n",
      "Processing layer-2             done | 00:00:00\n",
      "Predict complete                    | 00:00:07\n",
      "\n",
      "Fitting 2 layers\n",
      "Processing layer-1             done | 00:00:10\n",
      "Processing layer-2             done | 00:00:00\n",
      "Fit complete                        | 00:00:11\n",
      "\n",
      "Predicting 2 layers\n",
      "Processing layer-1             done | 00:00:07\n",
      "Processing layer-2             done | 00:00:00\n",
      "Predict complete                    | 00:00:08\n",
      "\n",
      "Fitting 2 layers\n",
      "Processing layer-1             done | 00:00:10\n",
      "Processing layer-2             done | 00:00:00\n",
      "Fit complete                        | 00:00:11\n",
      "\n",
      "Predicting 2 layers\n",
      "Processing layer-1             done | 00:00:07\n",
      "Processing layer-2             done | 00:00:00\n",
      "Predict complete                    | 00:00:07\n",
      "\n",
      "Fitting 2 layers\n",
      "Processing layer-1             done | 00:00:10\n",
      "Processing layer-2             done | 00:00:00\n",
      "Fit complete                        | 00:00:11\n",
      "\n",
      "Predicting 2 layers\n",
      "Processing layer-1             done | 00:00:07\n",
      "Processing layer-2             done | 00:00:00\n",
      "Predict complete                    | 00:00:07\n",
      "\n",
      "Fitting 2 layers\n",
      "Processing layer-1             done | 00:00:12\n",
      "Processing layer-2             done | 00:00:00\n",
      "Fit complete                        | 00:00:13\n",
      "\n",
      "Predicting 2 layers\n",
      "Processing layer-1             done | 00:00:08\n",
      "Processing layer-2             done | 00:00:00\n",
      "Predict complete                    | 00:00:08\n",
      "\n",
      "Fitting 2 layers\n",
      "Processing layer-1             done | 00:00:13\n",
      "Processing layer-2             done | 00:00:00\n",
      "Fit complete                        | 00:00:14\n",
      "\n",
      "Predicting 2 layers\n",
      "Processing layer-1             done | 00:00:07\n",
      "Processing layer-2             done | 00:00:00\n",
      "Predict complete                    | 00:00:08\n",
      "\n",
      "Fitting 2 layers\n",
      "Processing layer-1             done | 00:00:11\n",
      "Processing layer-2             done | 00:00:00\n",
      "Fit complete                        | 00:00:12\n",
      "\n",
      "Predicting 2 layers\n",
      "Processing layer-1             done | 00:00:08\n",
      "Processing layer-2             done | 00:00:00\n",
      "Predict complete                    | 00:00:08\n",
      "\n",
      "Fitting 2 layers\n",
      "Processing layer-1             done | 00:00:12\n",
      "Processing layer-2             done | 00:00:00\n",
      "Fit complete                        | 00:00:13\n",
      "\n",
      "Predicting 2 layers\n",
      "Processing layer-1             done | 00:00:09\n",
      "Processing layer-2             done | 00:00:00\n",
      "Predict complete                    | 00:00:09\n",
      "\n",
      "Fitting 2 layers\n",
      "Processing layer-1             done | 00:00:12\n",
      "Processing layer-2             done | 00:00:00\n",
      "Fit complete                        | 00:00:13\n",
      "\n",
      "Predicting 2 layers\n",
      "Processing layer-1             done | 00:00:09\n",
      "Processing layer-2             done | 00:00:00\n",
      "Predict complete                    | 00:00:09\n",
      "\n",
      "Fitting 2 layers\n",
      "Processing layer-1             done | 00:00:12\n",
      "Processing layer-2             done | 00:00:00\n",
      "Fit complete                        | 00:00:13\n",
      "\n",
      "Predicting 2 layers\n",
      "Processing layer-1             done | 00:00:08\n",
      "Processing layer-2             done | 00:00:00\n",
      "Predict complete                    | 00:00:08\n"
     ]
    }
   ],
   "source": [
    "idx = list(range(len(X)))\n",
    "np.random.shuffle(idx)\n",
    "X = X[idx]\n",
    "y = y[idx]\n",
    "cv_scores = []\n",
    "for i, (train_idx, test_idx) in enumerate(KFold(10).split(X)):\n",
    "    fold_x_train, fold_y_train = X[train_idx, :], y[train_idx]\n",
    "    fold_x_test, fold_y_test = X[test_idx, :], y[test_idx]\n",
    "    sl = get_ensemble()\n",
    "    sl.fit(fold_x_train, fold_y_train)\n",
    "    fold_p = sl.predict_proba(fold_x_test)\n",
    "    fold_y_pred = np.argmax(fold_p, axis=1)\n",
    "    acc = accuracy_score(fold_y_test, fold_y_pred)\n",
    "    recall = recall_score(fold_y_test, fold_y_pred)\n",
    "    cm = confusion_matrix(fold_y_test, fold_y_pred)\n",
    "    roc = roc_auc_score(fold_y_test, fold_p[:, 1])\n",
    "    cv_scores.append({'acc': acc, 'recall': recall, 'confusion_matrix': cm, 'roc_auc_score': roc})"
   ]
  },
  {
   "cell_type": "code",
   "execution_count": 9,
   "metadata": {},
   "outputs": [],
   "source": [
    "acc = [i['acc'] for i in cv_scores]\n",
    "recall = [i['recall'] for i in cv_scores]\n",
    "roc = [i['roc_auc_score'] for i in cv_scores]"
   ]
  },
  {
   "cell_type": "code",
   "execution_count": 10,
   "metadata": {},
   "outputs": [
    {
     "data": {
      "text/plain": [
       "[0.8076923076923077,\n",
       " 0.9230769230769231,\n",
       " 0.88,\n",
       " 0.88,\n",
       " 0.88,\n",
       " 0.92,\n",
       " 0.92,\n",
       " 0.76,\n",
       " 0.8,\n",
       " 0.76]"
      ]
     },
     "execution_count": 10,
     "metadata": {},
     "output_type": "execute_result"
    }
   ],
   "source": [
    "acc"
   ]
  },
  {
   "cell_type": "code",
   "execution_count": 11,
   "metadata": {},
   "outputs": [
    {
     "data": {
      "text/plain": [
       "[0.7857142857142857,\n",
       " 0.9473684210526315,\n",
       " 0.9375,\n",
       " 1.0,\n",
       " 0.8421052631578947,\n",
       " 0.9285714285714286,\n",
       " 1.0,\n",
       " 0.9333333333333333,\n",
       " 0.8181818181818182,\n",
       " 0.7058823529411765]"
      ]
     },
     "execution_count": 11,
     "metadata": {},
     "output_type": "execute_result"
    }
   ],
   "source": [
    "recall"
   ]
  },
  {
   "cell_type": "code",
   "execution_count": 12,
   "metadata": {},
   "outputs": [
    {
     "data": {
      "text/plain": [
       "[0.875,\n",
       " 0.9548872180451129,\n",
       " 0.8750000000000001,\n",
       " 0.9807692307692308,\n",
       " 0.9736842105263157,\n",
       " 0.9935064935064934,\n",
       " 1.0,\n",
       " 0.9266666666666666,\n",
       " 0.8701298701298701,\n",
       " 0.8382352941176471]"
      ]
     },
     "execution_count": 12,
     "metadata": {},
     "output_type": "execute_result"
    }
   ],
   "source": [
    "roc"
   ]
  },
  {
   "cell_type": "code",
   "execution_count": 13,
   "metadata": {},
   "outputs": [],
   "source": [
    "P = pd.DataFrame(np.array([acc, recall, roc]).T, columns=['acc', 'recall', 'roc auc score'])"
   ]
  },
  {
   "cell_type": "code",
   "execution_count": 14,
   "metadata": {},
   "outputs": [
    {
     "data": {
      "text/plain": [
       "<matplotlib.axes._subplots.AxesSubplot at 0x1c4418783c8>"
      ]
     },
     "execution_count": 14,
     "metadata": {},
     "output_type": "execute_result"
    },
    {
     "data": {
      "image/png": "[encoded data removed]",
      "text/plain": [
       "<Figure size 432x288 with 1 Axes>"
      ]
     },
     "metadata": {
      "needs_background": "light"
     },
     "output_type": "display_data"
    }
   ],
   "source": [
    "color = dict(boxes='DarkGreen',whiskers='DarkOrange',medians='DarkBlue',caps='Gray')\n",
    "P.plot.box(grid=True, color=color, title='10-Fold Cross Validation Metrics')"
   ]
  },
  {
   "cell_type": "code",
   "execution_count": 15,
   "metadata": {},
   "outputs": [
    {
     "name": "stdout",
     "output_type": "stream",
     "text": [
      "0.8530769230769231 0.1236697262204132\n",
      "0.8898656902952569 0.18475855968514776\n",
      "0.9287878983761336 0.11329587156769383\n"
     ]
    }
   ],
   "source": [
    "print(np.mean(acc), np.std(acc)*2)\n",
    "print(np.mean(recall), np.std(recall)*2)\n",
    "print(np.mean(roc), np.std(roc)*2)"
   ]
  },
  {
   "cell_type": "code",
   "execution_count": null,
   "metadata": {},
   "outputs": [],
   "source": []
  },
  {
   "cell_type": "code",
   "execution_count": null,
   "metadata": {},
   "outputs": [],
   "source": []
  },
  {
   "cell_type": "code",
   "execution_count": null,
   "metadata": {},
   "outputs": [],
   "source": []
  },
  {
   "cell_type": "code",
   "execution_count": null,
   "metadata": {},
   "outputs": [],
   "source": []
  },
  {
   "cell_type": "code",
   "execution_count": null,
   "metadata": {},
   "outputs": [],
   "source": []
  },
  {
   "cell_type": "code",
   "execution_count": null,
   "metadata": {},
   "outputs": [],
   "source": []
  }
 ],
 "metadata": {
  "kernelspec": {
   "display_name": "Python 3",
   "language": "python",
   "name": "python3"
  },
  "language_info": {
   "codemirror_mode": {
    "name": "ipython",
    "version": 3
   },
   "file_extension": ".py",
   "mimetype": "text/x-python",
   "name": "python",
   "nbconvert_exporter": "python",
   "pygments_lexer": "ipython3",
   "version": "3.7.0"
  }
 },
 "nbformat": 4,
 "nbformat_minor": 2
}
